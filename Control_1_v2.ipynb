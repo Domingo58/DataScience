{
  "cells": [
    {
      "metadata": {},
      "cell_type": "markdown",
      "source": "# Control 1: Sintaxis básica y manipulación de objetos simples en R\n"
    },
    {
      "metadata": {
        "trusted": true
      },
      "cell_type": "markdown",
      "source": "Nombre 1:                                                                                                                                       <br> \nNombre 2:\n\n# Instrucciones\nEl siguiente test podrá desarrollarlo de manera individual o en pareja con otro(a) de sus compañeros(as).<br>\n\nLea atentamente cada una de las preguntas propuestas y sea claro en los comentarios (si es que los incluye) de los desarrollos de sus respuestas. Para el desarrollo de las mismas, dispone de celdas de código después de cada pregunta. Sin embargo podrá agregar más celdas si así lo estima conveniente.\n\nUna vez finalizado el desarrollo del test, deberá entregarlo teniendo en cuenta las siguientes consideraciones :\n\n 1. Descargue el notebook en **formato HTML** (uno por pareja), y guárdelo con el nombre de los integrantes.\n * Envíe el archivo al correo majorquev@gmail.com con el asunto \"DBDN-R-C1: 'nombre y apellido de los integrantes' \"\n \n**NOTA**: Los correos cuyo asunto no comiencen con \"DBDN-R-C1\" no llegarán a destino y por ende no serán calificados."
    },
    {
      "metadata": {},
      "cell_type": "markdown",
      "source": "# Sección 1\n## Lenguaje básico\n\nLas siguientes líneas de código generan un vector aleatorio que simula los la cantidad de caras obtenidas al lanzar una moneda **cargada** 10 veces. Este experimento se repite 100 veces."
    },
    {
      "metadata": {
        "trusted": true
      },
      "cell_type": "code",
      "source": "set.seed(123)\n\ncaras <- rbinom(size = 10, n = 50, p = 0.7)",
      "execution_count": null,
      "outputs": []
    },
    {
      "metadata": {},
      "cell_type": "markdown",
      "source": "## P0.1. Asignación de un vector \nCree un vector llamado _sellos_ con la cantidad de sellos obtenidos en cada lanzamiento.**(1p)**"
    },
    {
      "metadata": {
        "trusted": true
      },
      "cell_type": "code",
      "source": "## Respuesta:",
      "execution_count": null,
      "outputs": []
    },
    {
      "metadata": {},
      "cell_type": "markdown",
      "source": "# P0.2 Manipulación de un vector\n**a)** ¿Cuántas caras  y sellos se obtuvieron en el 45-ésimo ensayo de este expreimento respectivamente?**(1p)**\n"
    },
    {
      "metadata": {
        "trusted": true
      },
      "cell_type": "code",
      "source": "## Respuesta:",
      "execution_count": null,
      "outputs": []
    },
    {
      "metadata": {},
      "cell_type": "markdown",
      "source": "**b)** ¿En cuántas ocasiones se obtuvo más de 5 caras? **(2p)**\n"
    },
    {
      "metadata": {
        "trusted": true
      },
      "cell_type": "code",
      "source": "## Respuesta:",
      "execution_count": null,
      "outputs": []
    },
    {
      "metadata": {},
      "cell_type": "markdown",
      "source": "**c)** ¿Cuántas caras en promedio se obtuvo en cada ensayo? **(2p)**"
    },
    {
      "metadata": {
        "trusted": true
      },
      "cell_type": "code",
      "source": "## Respuesta:",
      "execution_count": null,
      "outputs": []
    },
    {
      "metadata": {},
      "cell_type": "markdown",
      "source": "# P0.3 Combinación de vectores\nEl siguiente código sumula otros 900 ensayos con la misma moneda cargada"
    },
    {
      "metadata": {
        "trusted": true
      },
      "cell_type": "code",
      "source": "set.seed(456)\ncaras2 <- rbinom(size = 10, n = 950, p = 0.7)",
      "execution_count": null,
      "outputs": []
    },
    {
      "metadata": {},
      "cell_type": "markdown",
      "source": "**a)** Genere un vector llamado _ensayos_ que contenga los reultados del vector _caras_ seguido del vector _caras2_. **(1p)**"
    },
    {
      "metadata": {
        "trusted": true
      },
      "cell_type": "code",
      "source": "# a)\n## Respuesta:",
      "execution_count": null,
      "outputs": []
    },
    {
      "metadata": {},
      "cell_type": "markdown",
      "source": "**b)** ¿Cuántas caras en promedio se obtienen por ensayo? **(1p)**"
    },
    {
      "metadata": {
        "trusted": true
      },
      "cell_type": "code",
      "source": "# b)\n## Respuesta:",
      "execution_count": null,
      "outputs": []
    },
    {
      "metadata": {},
      "cell_type": "markdown",
      "source": "# P0.4 listas\n\nLos siguientes datos contienen información de dos mascotas, un perro llamado Rocky y un gato llamado Mr. Piwi (alias Piwi). Una vez cargado los datos responda las siguientes preguntas.\n\n\n"
    },
    {
      "metadata": {
        "trusted": true
      },
      "cell_type": "code",
      "source": "info_animales <- readRDS(\"info_animales.rds\")",
      "execution_count": null,
      "outputs": []
    },
    {
      "metadata": {},
      "cell_type": "markdown",
      "source": "**a)** ¿Que clase de objeto es `info_animales`y cuantos elementos contiene? **(1p)**\n"
    },
    {
      "metadata": {
        "trusted": true
      },
      "cell_type": "code",
      "source": "# a)\n## Respuesta:",
      "execution_count": null,
      "outputs": []
    },
    {
      "metadata": {},
      "cell_type": "markdown",
      "source": "**b)** ¿Cuáles son los nombres de cada slot? **(1p)**"
    },
    {
      "metadata": {
        "trusted": true
      },
      "cell_type": "code",
      "source": "# b)\n## Respuesta:",
      "execution_count": null,
      "outputs": []
    },
    {
      "metadata": {},
      "cell_type": "markdown",
      "source": "**c)** ¿Qué **clase**  de objeto contiene cada uno de los slots? **(3p)**"
    },
    {
      "metadata": {
        "trusted": true
      },
      "cell_type": "code",
      "source": "# c)\n## Respuesta:",
      "execution_count": null,
      "outputs": []
    },
    {
      "metadata": {},
      "cell_type": "markdown",
      "source": "**d)** El slot `temperaturas` contiene el registro diario de la temperatura para ambos animales. <br>\n    **d.1)** ¿Cuál es la temperatura que registró piwi el día 45? **(2p)**"
    },
    {
      "metadata": {
        "trusted": true
      },
      "cell_type": "code",
      "source": "# d.1)\n## Respuesta:",
      "execution_count": null,
      "outputs": []
    },
    {
      "metadata": {},
      "cell_type": "markdown",
      "source": "   **d.2)** ¿cuál es la temperatura que registró rocky el día 90? **(2p)**"
    },
    {
      "metadata": {
        "trusted": true
      },
      "cell_type": "code",
      "source": "# d.2)\n## Respuesta:",
      "execution_count": null,
      "outputs": []
    },
    {
      "metadata": {},
      "cell_type": "markdown",
      "source": "   **d.3)** ¿En qué día **piwi** registró la temperatura más alta? **(2p)**"
    },
    {
      "metadata": {
        "trusted": true
      },
      "cell_type": "code",
      "source": "# d.3)\n## Respuesta:",
      "execution_count": null,
      "outputs": []
    },
    {
      "metadata": {},
      "cell_type": "markdown",
      "source": "   **d.4)** ¿Cuál fue la temperatura promedio de **rocky**? **(2p)**"
    },
    {
      "metadata": {
        "trusted": true
      },
      "cell_type": "code",
      "source": "# d.4)\n## Respuesta:",
      "execution_count": null,
      "outputs": []
    },
    {
      "metadata": {},
      "cell_type": "markdown",
      "source": "# Sección 2\n## Caso\n\nUna pequeña tienda de vestuario ofrece distintos tipos de productos a sus clientes (zataptos, chaquetas, pantalones, accesorios, etc). Esta tienda ha registrado el comportamiento de compra del total de sus clientes durante un determinado período y ha guardado la siguiente información:\n\n * id: Vector con los códigos identificadores de cada cliente.\n * transacciones: Matriz con la cantidad de cada uno de los tipos de productos en los que ha transaccionado cada cliente.\n \n  \n\n## Carga de ambiente\n\nPara cargar dicha información a la sesión de trabajo utilizaremos la función `readRDS()`, como se muestra a continuación."
    },
    {
      "metadata": {
        "trusted": true
      },
      "cell_type": "code",
      "source": "# Carga de datos a sesión de trabajo -------------------------------------------------------\ntransacciones <- readRDS(\"transacciones_.rds\")\nid<-readRDS(\"id_.rds\")",
      "execution_count": null,
      "outputs": []
    },
    {
      "metadata": {
        "trusted": true
      },
      "cell_type": "code",
      "source": "# Puede inspeccionar los elementos recién cargados acá\n\n\n",
      "execution_count": null,
      "outputs": []
    },
    {
      "metadata": {},
      "cell_type": "markdown",
      "source": "# P1.0. Exploración de datos cargados\n\n**a)** ¿Cuál es la clase de los obejetos _transacciones_ y _id_? **(2p)**"
    },
    {
      "metadata": {
        "trusted": true
      },
      "cell_type": "code",
      "source": "# a)\n## Respuesta:\n\n",
      "execution_count": null,
      "outputs": []
    },
    {
      "metadata": {},
      "cell_type": "markdown",
      "source": "**b)** ¿Cuántas filas y columnas posee _transacciones_? **(1p)**"
    },
    {
      "metadata": {
        "trusted": true
      },
      "cell_type": "code",
      "source": "# b)\n## Respuesta:\n",
      "execution_count": null,
      "outputs": []
    },
    {
      "metadata": {},
      "cell_type": "markdown",
      "source": "**c)** Utilice la función `head()` para mostrar los primeros registros de transacciones. **(1p)**"
    },
    {
      "metadata": {
        "trusted": true
      },
      "cell_type": "code",
      "source": "# c)\n## Respuesta:\n\n",
      "execution_count": null,
      "outputs": []
    },
    {
      "metadata": {},
      "cell_type": "markdown",
      "source": "## P1.1. Creación de columna\n\nSe sabe que las transacciones (filas) de la matriz _transacciones_ están en el mismo orden que las identidicaciones de los clientes del vector *id*\n. Agregue dicha columna con id's a la matriz _transacciones_. **(2p)**\n"
    },
    {
      "metadata": {
        "trusted": true
      },
      "cell_type": "code",
      "source": "# P1. Creación de columna ---------------------------------------------------------------------\n#Respuesta:\n",
      "execution_count": null,
      "outputs": []
    },
    {
      "metadata": {},
      "cell_type": "markdown",
      "source": "## P1.2. Creación dataframe\n\nLa función `as.data.frame()` \"convierte\" una matriz o lista (de vectores de vectores del mismo largo) a un _dataframe_. Utilice esta función para crear un dataframe llamado trx_cliente. **(1p)**"
    },
    {
      "metadata": {
        "trusted": true
      },
      "cell_type": "code",
      "source": "# P2) Creación dataframe ---------------------------------------------------------------------\n## Respuesta:\n",
      "execution_count": null,
      "outputs": []
    },
    {
      "metadata": {},
      "cell_type": "markdown",
      "source": "## P1.3. Renombrar columna\n\n **a)** Recordando que la función names() retorna un **vector** con los nombres del dataframe ingresado como parámetro, cambie el nombre de la columna llamada *id* por *id_cliente*. **(2p)**"
    },
    {
      "metadata": {
        "trusted": true
      },
      "cell_type": "code",
      "source": "# P3) Renombrar columna  ---------------------------------------------------------------------\n# a) \n## Respuesta:\n\n",
      "execution_count": null,
      "outputs": []
    },
    {
      "metadata": {},
      "cell_type": "markdown",
      "source": "**b)** La función `as.character()` \"convierte\" un vector de datos a un vector de strings (tipo \"character\"). Convierta la columna *id_cliente* tipo character.<br> **(1p)**\n"
    },
    {
      "metadata": {
        "trusted": true
      },
      "cell_type": "code",
      "source": "# b) \n## Respuesta:\n\n",
      "execution_count": null,
      "outputs": []
    },
    {
      "metadata": {
        "trusted": true
      },
      "cell_type": "code",
      "source": "#Si usted realizó bien el paso anterior esta celda debería retornar TRUE\n\n",
      "execution_count": null,
      "outputs": []
    },
    {
      "metadata": {
        "collapsed": true,
        "trusted": false
      },
      "cell_type": "markdown",
      "source": "## P1.4. Filtrar un dataframe \nTeniendo en cuenta que el acceso a las filas de un _dataframe_ puede llevarse a cabo de la misma manera que en una matriz, ¿en qué productos transacciona el cliente cuyo *id_cliente* es \"4353\"?¿A qué número de fila en la tabla se encuentra dicho cliente? **(3p)**"
    },
    {
      "metadata": {
        "trusted": true,
        "scrolled": true
      },
      "cell_type": "code",
      "source": "# P4) Filtrar un dataframe --------------------------------------------------------\n## Respuesta:\n",
      "execution_count": null,
      "outputs": []
    },
    {
      "metadata": {
        "collapsed": true,
        "trusted": false
      },
      "cell_type": "markdown",
      "source": "# P1.5 Resumen transacciones\n\n Las siguientes funciones permiten realizar operaciones básicas por fila o por columna según sea el caso.\n\n   * colSums()    : Retorna la suma por columas de la matriz o data.frame ingresado\n   * rowSums()    : Retorna la suma por filas de la matriz o data.frame ingresado \n   * colMeans()   : Retorna la media por filas de la matriz o data.frame ingresado \n   * rowSums()    : Retorna la media por filas de la matriz o data.frame ingresado \n\n\n**NOTA1:** Si tiene dudas respecto de las funciones antes mencionadas puede consultar la ayuda de R.\n\n**a)** Determine el total de unidades que se han transaccionado para cada uno de los tipos de productos. **(2p)**\n \n"
    },
    {
      "metadata": {
        "trusted": true
      },
      "cell_type": "code",
      "source": "# a)\n## Respuesta:",
      "execution_count": null,
      "outputs": []
    },
    {
      "metadata": {},
      "cell_type": "markdown",
      "source": "**b)** ¿Cuál es el producto con mayor de unidades vendidas? **(1p)**"
    },
    {
      "metadata": {
        "trusted": true
      },
      "cell_type": "code",
      "source": "# b)\n## Respuesta:",
      "execution_count": null,
      "outputs": []
    },
    {
      "metadata": {},
      "cell_type": "markdown",
      "source": "**c)** ¿Cuántos **clientes** han comprado en la categoría cinturones? ¿A qué porcentaje del total corresponden? <br> **(3p)**\n    **NOTA:** Puede ser de utilidad crear un vector auxiliar indicando un 1 si compró más de 0 unidades y 0 en caso contrario. Luego sumar dicho vector."
    },
    {
      "metadata": {
        "trusted": true
      },
      "cell_type": "code",
      "source": "# c)\n## Respuesta:\n",
      "execution_count": null,
      "outputs": []
    },
    {
      "metadata": {
        "slideshow": {
          "slide_type": "subslide"
        }
      },
      "cell_type": "markdown",
      "source": "**d)** Considerando sólo los clientes que **han comprado al menos una falda**, ¿Cuántas faldas en promedio compra un cliente en este período de observación? **(2p)**"
    },
    {
      "metadata": {
        "trusted": true
      },
      "cell_type": "code",
      "source": "# d)\n## Respuesta:",
      "execution_count": null,
      "outputs": []
    },
    {
      "metadata": {},
      "cell_type": "markdown",
      "source": "**e)** Genere una nueva columna llamada `total_unidades` que contenga el total de unidades compradas por cada cliente (total de gorros + total poleras + total pantalones + etc...) **(2p)**"
    },
    {
      "metadata": {
        "trusted": true
      },
      "cell_type": "code",
      "source": "# e)\n## Respuesta:",
      "execution_count": null,
      "outputs": []
    },
    {
      "metadata": {},
      "cell_type": "markdown",
      "source": "**f)** Considerando la columna calculada en el punto e), ¿cuál es el id del cliente con mayor cantidad de unidades compradas? **(2p)**"
    },
    {
      "metadata": {
        "trusted": true
      },
      "cell_type": "code",
      "source": "# f)\n## Respuesta:",
      "execution_count": null,
      "outputs": []
    },
    {
      "metadata": {},
      "cell_type": "markdown",
      "source": "**g)** Considerando el cliente anterior obtenido en f), ¿Cuál es el producto en el que ha comprado la menor cantidad de unidades? **(1p)**"
    },
    {
      "metadata": {
        "trusted": true
      },
      "cell_type": "code",
      "source": "# g)\n## Respuesta:",
      "execution_count": null,
      "outputs": []
    },
    {
      "metadata": {},
      "cell_type": "markdown",
      "source": "**e)** Genere una lista llamada resumen, que tenga la siguiente información **(2p)**:\n 1. Un slot llamado N, que contenga la cantidad de clientes del set de datos.\n 2. Un slot llamado cat_mayor, que contenga el nombre del producto obtenido en la parte b).\n 3. Un slot llamado mejor_cliente, que contenga el id del cliente obtenido en el punto f).\n    "
    },
    {
      "metadata": {
        "trusted": true
      },
      "cell_type": "code",
      "source": "#f)\n## Respuesta:\n\n",
      "execution_count": null,
      "outputs": []
    }
  ],
  "metadata": {
    "kernelspec": {
      "name": "r",
      "display_name": "R",
      "language": "R"
    },
    "language_info": {
      "mimetype": "text/x-r-source",
      "name": "R",
      "pygments_lexer": "r",
      "version": "3.5.3",
      "file_extension": ".r",
      "codemirror_mode": "r"
    }
  },
  "nbformat": 4,
  "nbformat_minor": 2
}